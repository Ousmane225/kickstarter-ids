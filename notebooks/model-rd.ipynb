{
 "cells": [
  {
   "cell_type": "code",
   "execution_count": 1,
   "metadata": {},
   "outputs": [],
   "source": [
    "from pyspark.sql import SparkSession"
   ]
  },
  {
   "cell_type": "code",
   "execution_count": 2,
   "metadata": {},
   "outputs": [
    {
     "data": {
      "text/html": [
       "\n",
       "            <div>\n",
       "                <p><b>SparkSession - in-memory</b></p>\n",
       "                \n",
       "        <div>\n",
       "            <p><b>SparkContext</b></p>\n",
       "\n",
       "            <p><a href=\"http://172.16.6.174:4040\">Spark UI</a></p>\n",
       "\n",
       "            <dl>\n",
       "              <dt>Version</dt>\n",
       "                <dd><code>v2.4.5</code></dd>\n",
       "              <dt>Master</dt>\n",
       "                <dd><code>local[*]</code></dd>\n",
       "              <dt>AppName</dt>\n",
       "                <dd><code>pyspark-shell</code></dd>\n",
       "            </dl>\n",
       "        </div>\n",
       "        \n",
       "            </div>\n",
       "        "
      ],
      "text/plain": [
       "<pyspark.sql.session.SparkSession at 0x7f3b9d013dd8>"
      ]
     },
     "execution_count": 2,
     "metadata": {},
     "output_type": "execute_result"
    }
   ],
   "source": [
    "spark = SparkSession.builder.getOrCreate()\n",
    "spark"
   ]
  },
  {
   "cell_type": "code",
   "execution_count": 3,
   "metadata": {},
   "outputs": [
    {
     "name": "stdout",
     "output_type": "stream",
     "text": [
      "Number of lines: 107615\n"
     ]
    }
   ],
   "source": [
    "df_kids = spark.read.parquet('../data/kickstarter.parquet')\n",
    "print(f'Number of lines: {df_kids.count()}')"
   ]
  },
  {
   "cell_type": "code",
   "execution_count": 4,
   "metadata": {},
   "outputs": [
    {
     "name": "stdout",
     "output_type": "stream",
     "text": [
      "root\n",
      " |-- project_id: string (nullable = true)\n",
      " |-- goal: double (nullable = true)\n",
      " |-- final_status: integer (nullable = true)\n",
      " |-- country_clean: string (nullable = true)\n",
      " |-- currency_clean: string (nullable = true)\n",
      " |-- deadline_clean: date (nullable = true)\n",
      " |-- created_at_clean: date (nullable = true)\n",
      " |-- launched_at_clean: date (nullable = true)\n",
      " |-- days_campaign: integer (nullable = true)\n",
      " |-- hours_prepa: double (nullable = true)\n",
      " |-- text: string (nullable = true)\n",
      "\n"
     ]
    }
   ],
   "source": [
    "df_kids.printSchema()"
   ]
  },
  {
   "cell_type": "code",
   "execution_count": 7,
   "metadata": {},
   "outputs": [
    {
     "name": "stdout",
     "output_type": "stream",
     "text": [
      "+-------+-----------------+------------------+-----------------+\n",
      "|summary|             goal|     days_campaign|      hours_prepa|\n",
      "+-------+-----------------+------------------+-----------------+\n",
      "|  count|           107615|            107615|           107615|\n",
      "|   mean|36839.03487571435| 34.17846954420852|905.8462699437829|\n",
      "| stddev|974215.3015402365|12.953461603195978|2091.017693399736|\n",
      "|    min|             0.01|                 1|             0.04|\n",
      "|    max|            1.0E8|                92|          45691.1|\n",
      "+-------+-----------------+------------------+-----------------+\n",
      "\n"
     ]
    }
   ],
   "source": [
    "df_kids.select('goal', 'days_campaign', 'hours_prepa').describe().show()"
   ]
  },
  {
   "cell_type": "code",
   "execution_count": 30,
   "metadata": {},
   "outputs": [
    {
     "name": "stdout",
     "output_type": "stream",
     "text": [
      "+-------------+-----------+-------+-------------+--------------+------------+\n",
      "|days_campaign|hours_prepa|   goal|country_clean|currency_clean|final_status|\n",
      "+-------------+-----------+-------+-------------+--------------+------------+\n",
      "|           90|        1.1|25000.0|           US|           USD|           0|\n",
      "|           29|      41.62| 1000.0|           US|           USD|           1|\n",
      "|           28|       18.7| 2200.0|           US|           USD|           0|\n",
      "|           47|      75.69|10000.0|           US|           USD|           0|\n",
      "|           45|     457.74| 5000.0|           US|           USD|           0|\n",
      "|           45|     380.94|10000.0|           US|           USD|           1|\n",
      "|           46|     814.58|18000.0|           US|           USD|           1|\n",
      "|           61|      58.93| 2500.0|           US|           USD|           0|\n",
      "|           40|       2.16| 7500.0|           US|           USD|           1|\n",
      "|           44|     191.41| 2500.0|           US|           USD|           0|\n",
      "|           30|      43.21| 3000.0|           US|           USD|           0|\n",
      "|           60|     524.22|20000.0|           US|           USD|           0|\n",
      "|           90|      15.02| 3500.0|           US|           USD|           1|\n",
      "|           15|       0.97|  400.0|           US|           USD|           1|\n",
      "|           30|       6.46| 1500.0|           US|           USD|           1|\n",
      "|           37|    2015.13| 3000.0|           US|           USD|           1|\n",
      "|           30|     137.33|10000.0|           US|           USD|           0|\n",
      "|           48|      45.23| 2000.0|           US|           USD|           1|\n",
      "|           85|     838.04|32500.0|           US|           USD|           1|\n",
      "|           54|       3.47| 3000.0|           US|           USD|           1|\n",
      "+-------------+-----------+-------+-------------+--------------+------------+\n",
      "only showing top 20 rows\n",
      "\n"
     ]
    }
   ],
   "source": [
    "numerical_columns = ['days_campaign', 'hours_prepa', 'goal']\n",
    "categorical_columns = ['country_clean', 'currency_clean']\n",
    "features = numerical_columns + categorical_columns\n",
    "\n",
    "label = 'final_status'\n",
    "\n",
    "df = df_kids.select(features + [label])\n",
    "df.show()"
   ]
  },
  {
   "cell_type": "code",
   "execution_count": 31,
   "metadata": {},
   "outputs": [],
   "source": [
    "from pyspark.ml.feature import StringIndexer, OneHotEncoder, VectorAssembler, OneHotEncoderEstimator\n",
    "from pyspark.ml.classification import LogisticRegression\n",
    "from pyspark.ml import Pipeline"
   ]
  },
  {
   "cell_type": "code",
   "execution_count": 32,
   "metadata": {},
   "outputs": [],
   "source": [
    "def build_string_indexer(col_name: str) -> StringIndexer:\n",
    "    return StringIndexer().setInputCol(col_name).setOutputCol(f'{col_name}_indexed').setHandleInvalid(\"keep\")\n",
    "\n",
    "def build_one_hot_encoder(input_cols: str) -> OneHotEncoderEstimator:\n",
    "    output_cols = [f'{c}_encoded' for c in input_cols]\n",
    "    return OneHotEncoderEstimator().setInputCols(input_cols).setOutputCols(output_cols)\n",
    "\n",
    "indexing_stages = [build_string_indexer(c) for c in categorical_columns]\n",
    "indexed_columns = [s.getOutputCol() for s in indexing_stages]\n",
    "ohe = build_one_hot_encoder(indexed_columns)\n",
    "encoding_stages = [ohe]"
   ]
  },
  {
   "cell_type": "code",
   "execution_count": 33,
   "metadata": {},
   "outputs": [],
   "source": [
    "vector_assembler = VectorAssembler()\\\n",
    "    .setInputCols(numerical_columns + ohe.getOutputCols())\\\n",
    "    .setOutputCol('features')"
   ]
  },
  {
   "cell_type": "code",
   "execution_count": 38,
   "metadata": {},
   "outputs": [],
   "source": [
    "lr = LogisticRegression()\\\n",
    "    .setMaxIter(10)\\\n",
    "    .setFeaturesCol(vector_assembler.getOutputCol())\\\n",
    "    .setLabelCol('final_status')\n",
    "\n",
    "from pyspark.ml.classification import GBTClassifier\n",
    "\n",
    "gbt = GBTClassifier().setFeaturesCol(vector_assembler.getOutputCol()).setLabelCol('final_status')\n",
    "model_specs = Pipeline().setStages(indexing_stages + encoding_stages + [vector_assembler] + [gbt])"
   ]
  },
  {
   "cell_type": "code",
   "execution_count": 39,
   "metadata": {},
   "outputs": [
    {
     "name": "stdout",
     "output_type": "stream",
     "text": [
      "Fitting model on 86092 lines\n",
      "Evaluating model\n",
      "{'train_auc': 0.677942142468496, 'test_auc': 0.6767387585283429}\n"
     ]
    }
   ],
   "source": [
    "from pyspark.ml.tuning import TrainValidationSplit\n",
    "from pyspark.ml.evaluation import BinaryClassificationEvaluator\n",
    "import mlflow\n",
    "from mlflow.spark import log_model\n",
    "\n",
    "df_train, df_test = df.randomSplit([0.8, 0.2], seed=12345)\n",
    "df_train = df_train.cache()\n",
    "\n",
    "evaluator = BinaryClassificationEvaluator()\\\n",
    "    .setMetricName('areaUnderROC')\\\n",
    "    .setRawPredictionCol('rawPrediction')\\\n",
    "    .setLabelCol('final_status')\n",
    "\n",
    "mlflow_tracking_ui = 'http://35.246.84.226'\n",
    "mlflow_experiment_name = 'kickstarter'\n",
    "\n",
    "mlflow.set_tracking_uri(mlflow_tracking_ui)\n",
    "mlflow.set_experiment(experiment_name=mlflow_experiment_name)\n",
    "\n",
    "with mlflow.start_run() as active_run:\n",
    "    print(f'Fitting model on {df_train.count()} lines')\n",
    "\n",
    "    model = model_specs.fit(df_train)\n",
    "\n",
    "    print('Evaluating model')\n",
    "    train_metrics = evaluator.evaluate(model.transform(df_train))\n",
    "    metrics = {'train_auc': train_metrics}\n",
    "\n",
    "    test_metrics = evaluator.evaluate(model.transform(df_test))\n",
    "    metrics.update({'test_auc': test_metrics})\n",
    "    print(metrics)\n",
    "    \n",
    "#     print('Logging to mlflow')\n",
    "#     mlflow.log_params({'model_class': 'logistic regression', 'lr_max_iter': lr.getMaxIter()})\n",
    "#     mlflow.log_metrics(metrics)\n",
    "#     log_model(model, 'model')"
   ]
  },
  {
   "cell_type": "code",
   "execution_count": null,
   "metadata": {},
   "outputs": [],
   "source": []
  },
  {
   "cell_type": "code",
   "execution_count": null,
   "metadata": {},
   "outputs": [],
   "source": []
  }
 ],
 "metadata": {
  "kernelspec": {
   "display_name": "Python 3",
   "language": "python",
   "name": "python3"
  },
  "language_info": {
   "codemirror_mode": {
    "name": "ipython",
    "version": 3
   },
   "file_extension": ".py",
   "mimetype": "text/x-python",
   "name": "python",
   "nbconvert_exporter": "python",
   "pygments_lexer": "ipython3",
   "version": "3.7.3"
  }
 },
 "nbformat": 4,
 "nbformat_minor": 4
}
